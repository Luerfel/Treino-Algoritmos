{
  "nbformat": 4,
  "nbformat_minor": 0,
  "metadata": {
    "colab": {
      "provenance": []
    },
    "kernelspec": {
      "name": "python3",
      "display_name": "Python 3"
    },
    "language_info": {
      "name": "python"
    }
  },
  "cells": [
    {
      "cell_type": "code",
      "execution_count": null,
      "metadata": {
        "id": "5vQ4Q9LHP_Id"
      },
      "outputs": [],
      "source": [
        "# Exercicio 1 Imposto Rapidopolis\n",
        "\n",
        "# Ler as informações necessarios\n",
        "salHora = float(input(\"Qual o seu salário horas \"))\n",
        "horas = int(input(\"Quantas horas trabalhou? \"))\n",
        "\n",
        "# Calculos\n",
        "salarioBruto = salHora*horas\n",
        "taxa = salarioBruto *(15/100)\n",
        "salLiquido = salarioBruto - taxa\n",
        "\n",
        "# Mostra o resultado\n",
        "print(\"Seu Salário é \",format(salLiquido,\"0.2f\"))\n"
      ]
    },
    {
      "cell_type": "code",
      "source": [
        "# Exercicio 2 CÁLCULO IMC\n",
        "peso = float(input(\"Digite seu peso em KG \"))\n",
        "altura = float(input(\"Digite sua altura em cm \")) / 100\n",
        "imc = peso/(altura*altura)\n",
        "\n",
        "print(\"seu imc \",format(imc,\"0.2f\"))"
      ],
      "metadata": {
        "id": "l-KNHf_Fdzgx"
      },
      "execution_count": null,
      "outputs": []
    },
    {
      "cell_type": "code",
      "source": [
        "# Exercicio 3 Rica Azulejo\n",
        "\n",
        "# leituras das informações\n",
        "largulaLocal = float(input(\"Digite a largula do local em metros : \"))\n",
        "comprimentoLocal = float(input(\"Digite o comprimento do local em metros : \"))\n",
        "largulaAzulejo = float(input(\"Digite a largula do azulejo em metros  : \"))\n",
        "comprimentoAzulejo = float(input(\"Digite o comprimento do azulejo em metros  : \"))\n",
        "\n",
        "# Calculos\n",
        "areaLocal = largulaLocal*comprimentoLocal\n",
        "areaAzulejo = largulaAzulejo*comprimentoAzulejo\n",
        "numeroAzulejo = areaLocal/areaAzulejo\n",
        "\n",
        "# Mostra o resultado\n",
        "print(f\"são necessarios {numeroAzulejo} Azulejos!\")"
      ],
      "metadata": {
        "id": "J2wapxU6-cOJ"
      },
      "execution_count": null,
      "outputs": []
    },
    {
      "cell_type": "code",
      "source": [
        "# Exercicio 4 Monitoramente de percurso\n",
        "\n",
        "# leitura das informações dos percursos\n",
        "\n",
        "p1_dist = float(input(\"Digite a distancia do primeiro percurso em metros : \"))\n",
        "p1_temp = float(input(\"DIgite o tempo do primeiro percurso em segundos : \"))\n",
        "\n",
        "p2_dist = float(input(\"Digite a distancia do segundo percurso em metros : \"))\n",
        "p2_temp = float(input(\"DIgite o tempo do segundo percurso em segundos : \"))\n",
        "\n",
        "p3_dist = float(input(\"Digite a distancia do terceiro percurso em metros : \"))\n",
        "p3_temp = float(input(\"DIgite o tempo do terceiro percurso em segundos : \"))\n",
        "\n",
        "p4_dist = float(input(\"Digite a distancia do quatro percurso em metros : \"))\n",
        "p4_temp = float(input(\"DIgite o tempo do quatro percurso em segundos : \"))\n",
        "\n",
        "# Calculo da Velocidade Média\n",
        "p1_vmedia = p1_dist/p1_temp\n",
        "p2_vmedia = p2_dist/p2_temp\n",
        "p3_vmedia = p3_dist/p3_temp\n",
        "p4_vmedia = p4_dist/p4_temp\n",
        "vmedia_total = (p1_vmedia + p2_vmedia + p3_vmedia + p4_vmedia) / 4\n",
        "\n",
        "# calculo da aceleração entre dois trechos consecutivos\n",
        "acel_p1p2 = (p2_vmedia - p1_vmedia) / (p2_temp - p1_temp)\n",
        "acel_p2p3 = (p3_vmedia - p2_vmedia) / (p3_temp - p2_temp)\n",
        "acel_p3p4 = (p4_vmedia - p3_vmedia) / (p4_temp - p3_temp)\n",
        "\n",
        "# mostra o resultado da velocidade média\n",
        "print(\"Velocidade média do 1 percurso : \",format(p1_vmedia,\"0.2f\"))\n",
        "print(\"Velocidade média do 2 percurso : \",format(p2_vmedia,\"0.2f\"))\n",
        "print(\"Velocidade média do 3 percurso : \",format(p3_vmedia,\"0.2f\"))\n",
        "print(\"Velocidade média do 4 percurso : \",format(p4_vmedia,\"0.2f\"))\n",
        "print(\"Velocidade média total : \",format(vmedia_total,\"0.2f\"))\n",
        "\n",
        "# mostra o resultado da aceleração entre dois trechos consecutivos\n",
        "print(\" aceleração média entre o 1 percurso e o 2 percurso \",format(acel_p1p2,\"0.2f\"))\n",
        "print(\" aceleração média entre o 2 percurso e o 3 percurso \",format(acel_p2p3,\"0.2f\"))\n",
        "print(\" aceleração média entre o 3 percurso e o 4 percurso \",format(acel_p3p4,\"0.2f\"))"
      ],
      "metadata": {
        "id": "A4GVGPNtctT-"
      },
      "execution_count": null,
      "outputs": []
    },
    {
      "cell_type": "code",
      "source": [
        "# Exercicio 5 Trajetória balística\n",
        "\n",
        "\n",
        "# entrada do usuario\n",
        "gravidade = 9.81\n",
        "velocidade_inicial = float(input(\"Digite a velocidade inicial (m/s): \"))\n",
        "angulo = float(input(\"Digite o ângulo de lançamento (graus): \"))\n",
        "tempo = float(input(\"Digite o tempo (s): \"))\n",
        "\n",
        "#Calculos\n",
        "angulo_rad = math.radians(angulo) #transforma o angulo para radianos\n",
        "\n",
        "posicao_horizontal = velocidade_inicial * math.cos(angulo_rad) * tempo\n",
        "altura = (velocidade_inicial * math.sin(angulo_rad) * tempo) - (0.5 * gravidade * tempo**2)\n",
        "\n",
        "#Saida\n",
        "print(f\"A posição horizontal do projétil em {tempo} segundos é: {posicao_horizontal} metros\")\n",
        "print(f\"A altura do projétil em {tempo} segundos é: {altura} metros\")"
      ],
      "metadata": {
        "id": "A-oLi_Lbu9iQ"
      },
      "execution_count": null,
      "outputs": []
    },
    {
      "cell_type": "code",
      "source": [
        "# Exercicio 6 Sistema de GPS cartesiano\n",
        "\n",
        "# Entradas\n",
        "x_origem = float(input(\"Digite a coordenada x da origem: \"))\n",
        "y_origem = float(input(\"Digite a coordenada y da origem: \"))\n",
        "\n",
        "x_destino = float(input(\"Digite a coordenada x do destino: \"))\n",
        "y_destino = float(input(\"Digite a coordenada y do destino: \"))\n",
        "\n",
        "# Coordenadas\n",
        "origem = (x_origem, y_origem)\n",
        "destino = (x_destino, y_destino)\n",
        "\n",
        "# Calcular a diferença entre as coordenadas x e y\n",
        "diferenca_x = x_destino - x_origem\n",
        "diferenca_y = y_destino - y_origem\n",
        "\n",
        "# Calcular a distância euclidiana\n",
        "distancia_linear = math.sqrt(diferenca_x ** 2 + diferenca_y ** 2)\n",
        "\n",
        "# Saida\n",
        "\n",
        "print(f\"A distância linear entre os pontos {origem} e {destino} é: {distancia}\")\n"
      ],
      "metadata": {
        "id": "zL00Uxallfw8"
      },
      "execution_count": null,
      "outputs": []
    },
    {
      "cell_type": "code",
      "source": [
        " # Exercicio 7 Avaliar satisfação\n",
        "\n",
        "nota1 = int(input(\"Digite a 1 nota \"))\n",
        "nota1 = int(input(\"Digite a 2 nota \"))\n",
        "nota1 = int(input(\"Digite a 3 nota \"))\n",
        "nota1 = int(input(\"Digite a 4 nota \"))\n",
        "nota1 = int(input(\"Digite a 5 nota \"))\n",
        "\n",
        "media = (nota1 + nota2 + nota3 + nota4 + nota5) / 5\n",
        "\n",
        "print(f\"A média é : {media}\")\n"
      ],
      "metadata": {
        "id": "MNsLt6eam4FP"
      },
      "execution_count": null,
      "outputs": []
    },
    {
      "cell_type": "code",
      "source": [
        "# Exercicio 8 média ponderada de peixes\n",
        "\n",
        "# entrada do usuario pedindo a massa e o comprimento dos peixes\n",
        "peixes = 7\n",
        "peixe1_massa = float(input(\"Digite a Massa do primeiro peixe \"))\n",
        "peixe1_comprimento = float(input(\"Digite o comprimento do primeiro peixe \"))\n",
        "peixe2_massa = float(input(\"Digite a Massa do segundo peixe \"))\n",
        "peixe2_comprimento = float(input(\"Digite o comprimento do segundo peixe \"))\n",
        "peixe3_massa = float(input(\"Digite a Massa do terceiro peixe \"))\n",
        "peixe3_comprimento = float(input(\"Digite o comprimento do terceiro peixe \"))\n",
        "peixe4_massa = float(input(\"Digite a Massa do quarto peixe \"))\n",
        "peixe4_comprimento = float(input(\"Digite o comprimento do quarto peixe \"))\n",
        "peixe5_massa = float(input(\"Digite a Massa do primeiro peixe \"))\n",
        "peixe5_comprimento = float(input(\"Digite o comprimento do primeiro peixe \"))\n",
        "peixe6_massa = float(input(\"Digite a Massa do primeiro peixe \"))\n",
        "peixe6_comprimento = float(input(\"Digite o comprimento do primeiro peixe \"))\n",
        "peixe7_massa = float(input(\"Digite a Massa do primeiro peixe \"))\n",
        "peixe7_comprimento = float(input(\"Digite o comprimento do primeiro peixe\"))\n",
        "\n",
        "\n",
        "soma_pesos = (peixe1_comprimento + peixe2_comprimento + peixe3_comprimento + peixe4_comprimento + peixe5_comprimento + peixe6_comprimento + peixe7_comprimento)\n",
        "soma_ponderada = (peixe1_massa * peixe1_comprimento + peixe2_massa * peixe2_comprimento + peixe3_massa * peixe3_comprimento + peixe4_massa * peixe4_comprimento + peixe5_massa * peixe5_comprimento + peixe6_massa * peixe6_comprimento + peixe7_massa * peixe7_comprimento)\n",
        "media_ponderada = soma_ponderada / soma_pesos\n",
        "\n",
        "print(\"A média ponderada das massas dos peixes é:\", media_ponderada)"
      ],
      "metadata": {
        "id": "zO39lTxbntaw"
      },
      "execution_count": null,
      "outputs": []
    }
  ]
}